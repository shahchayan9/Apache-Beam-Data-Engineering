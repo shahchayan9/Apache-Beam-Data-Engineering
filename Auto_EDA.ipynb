{
  "nbformat": 4,
  "nbformat_minor": 0,
  "metadata": {
    "colab": {
      "provenance": [],
      "authorship_tag": "ABX9TyPiYGbsD2oA7jUhIFGkpqpg",
      "include_colab_link": true
    },
    "kernelspec": {
      "name": "python3",
      "display_name": "Python 3"
    },
    "language_info": {
      "name": "python"
    }
  },
  "cells": [
    {
      "cell_type": "markdown",
      "metadata": {
        "id": "view-in-github",
        "colab_type": "text"
      },
      "source": [
        "<a href=\"https://colab.research.google.com/github/shahchayan9/Apache-Beam-Data-Engineering/blob/main/Auto_EDA.ipynb\" target=\"_parent\"><img src=\"https://colab.research.google.com/assets/colab-badge.svg\" alt=\"Open In Colab\"/></a>"
      ]
    },
    {
      "cell_type": "code",
      "execution_count": null,
      "metadata": {
        "colab": {
          "base_uri": "https://localhost:8080/"
        },
        "id": "eSL3qXqdbUJ_",
        "outputId": "42c89128-c7f0-41d8-b2a1-3573e4eb7b1a"
      },
      "outputs": [
        {
          "output_type": "stream",
          "name": "stdout",
          "text": [
            "Drive already mounted at /content/drive; to attempt to forcibly remount, call drive.mount(\"/content/drive\", force_remount=True).\n"
          ]
        }
      ],
      "source": [
        "from google.colab import drive\n",
        "drive.mount('/content/drive')"
      ]
    },
    {
      "cell_type": "code",
      "source": [
        "import pandas as pd\n",
        "import numpy as np"
      ],
      "metadata": {
        "id": "GzAKsM4ocxQm"
      },
      "execution_count": null,
      "outputs": []
    },
    {
      "cell_type": "code",
      "source": [
        "df = pd.read_csv('/content/drive/MyDrive/Datasets/train.csv')"
      ],
      "metadata": {
        "id": "kgEw_LeTcu6A"
      },
      "execution_count": null,
      "outputs": []
    },
    {
      "cell_type": "code",
      "source": [
        "pip install sweetviz\n"
      ],
      "metadata": {
        "colab": {
          "base_uri": "https://localhost:8080/"
        },
        "id": "9HRqp2ghc1Zm",
        "outputId": "40e66503-9005-4dc0-9615-78a53efae56c"
      },
      "execution_count": null,
      "outputs": [
        {
          "output_type": "stream",
          "name": "stdout",
          "text": [
            "Requirement already satisfied: sweetviz in /usr/local/lib/python3.10/dist-packages (2.3.1)\n",
            "Requirement already satisfied: pandas!=1.0.0,!=1.0.1,!=1.0.2,>=0.25.3 in /usr/local/lib/python3.10/dist-packages (from sweetviz) (2.2.2)\n",
            "Requirement already satisfied: numpy>=1.16.0 in /usr/local/lib/python3.10/dist-packages (from sweetviz) (1.26.4)\n",
            "Requirement already satisfied: matplotlib>=3.1.3 in /usr/local/lib/python3.10/dist-packages (from sweetviz) (3.7.1)\n",
            "Requirement already satisfied: tqdm>=4.43.0 in /usr/local/lib/python3.10/dist-packages (from sweetviz) (4.66.5)\n",
            "Requirement already satisfied: scipy>=1.3.2 in /usr/local/lib/python3.10/dist-packages (from sweetviz) (1.13.1)\n",
            "Requirement already satisfied: jinja2>=2.11.1 in /usr/local/lib/python3.10/dist-packages (from sweetviz) (3.1.4)\n",
            "Requirement already satisfied: importlib-resources>=1.2.0 in /usr/local/lib/python3.10/dist-packages (from sweetviz) (6.4.5)\n",
            "Requirement already satisfied: MarkupSafe>=2.0 in /usr/local/lib/python3.10/dist-packages (from jinja2>=2.11.1->sweetviz) (3.0.2)\n",
            "Requirement already satisfied: contourpy>=1.0.1 in /usr/local/lib/python3.10/dist-packages (from matplotlib>=3.1.3->sweetviz) (1.3.0)\n",
            "Requirement already satisfied: cycler>=0.10 in /usr/local/lib/python3.10/dist-packages (from matplotlib>=3.1.3->sweetviz) (0.12.1)\n",
            "Requirement already satisfied: fonttools>=4.22.0 in /usr/local/lib/python3.10/dist-packages (from matplotlib>=3.1.3->sweetviz) (4.54.1)\n",
            "Requirement already satisfied: kiwisolver>=1.0.1 in /usr/local/lib/python3.10/dist-packages (from matplotlib>=3.1.3->sweetviz) (1.4.7)\n",
            "Requirement already satisfied: packaging>=20.0 in /usr/local/lib/python3.10/dist-packages (from matplotlib>=3.1.3->sweetviz) (24.1)\n",
            "Requirement already satisfied: pillow>=6.2.0 in /usr/local/lib/python3.10/dist-packages (from matplotlib>=3.1.3->sweetviz) (10.4.0)\n",
            "Requirement already satisfied: pyparsing>=2.3.1 in /usr/local/lib/python3.10/dist-packages (from matplotlib>=3.1.3->sweetviz) (3.2.0)\n",
            "Requirement already satisfied: python-dateutil>=2.7 in /usr/local/lib/python3.10/dist-packages (from matplotlib>=3.1.3->sweetviz) (2.8.2)\n",
            "Requirement already satisfied: pytz>=2020.1 in /usr/local/lib/python3.10/dist-packages (from pandas!=1.0.0,!=1.0.1,!=1.0.2,>=0.25.3->sweetviz) (2024.2)\n",
            "Requirement already satisfied: tzdata>=2022.7 in /usr/local/lib/python3.10/dist-packages (from pandas!=1.0.0,!=1.0.1,!=1.0.2,>=0.25.3->sweetviz) (2024.2)\n",
            "Requirement already satisfied: six>=1.5 in /usr/local/lib/python3.10/dist-packages (from python-dateutil>=2.7->matplotlib>=3.1.3->sweetviz) (1.16.0)\n"
          ]
        }
      ]
    },
    {
      "cell_type": "code",
      "source": [
        "import sweetviz as sv\n",
        "report = sv.analyze(df)\n"
      ],
      "metadata": {
        "colab": {
          "base_uri": "https://localhost:8080/",
          "height": 49,
          "referenced_widgets": [
            "217df79e55bd438696df238b1b0e9c99",
            "e774998bb3ea4bf8b5cef504a0d1199d",
            "a525664233f54bfbbf774507371104ac",
            "59f04d5adfbe46c2824604a8f271ba18",
            "e7bc675b5e7141fbb8724898f4cb4846",
            "199b778147dc45adb8977984b43feb98",
            "b31d27daad474387adad54376aecc8d4",
            "2d55ade623b54499a5eadf9a02eafad5",
            "767d8e081eba4983ac06966acce26c5d",
            "1438ee00361544d89759b3a233d4530b",
            "f0e3970d87c949eda338f269e84f9e85"
          ]
        },
        "id": "aUdViBRwc6MK",
        "outputId": "7dd3bdcc-3866-49bc-d4bd-071d503c12d5"
      },
      "execution_count": null,
      "outputs": [
        {
          "output_type": "display_data",
          "data": {
            "text/plain": [
              "                                             |          | [  0%]   00:00 -> (? left)"
            ],
            "application/vnd.jupyter.widget-view+json": {
              "version_major": 2,
              "version_minor": 0,
              "model_id": "217df79e55bd438696df238b1b0e9c99"
            }
          },
          "metadata": {}
        }
      ]
    },
    {
      "cell_type": "code",
      "source": [
        "report.show_html(\"black_friday_sales_sweetviz_report.html\")\n"
      ],
      "metadata": {
        "colab": {
          "base_uri": "https://localhost:8080/"
        },
        "id": "VLqBZCaAc_Yb",
        "outputId": "ef18a4eb-b90b-48bf-fae0-2012852e177b"
      },
      "execution_count": null,
      "outputs": [
        {
          "output_type": "stream",
          "name": "stdout",
          "text": [
            "Report black_friday_sales_sweetviz_report.html was generated! NOTEBOOK/COLAB USERS: the web browser MAY not pop up, regardless, the report IS saved in your notebook/colab files.\n"
          ]
        }
      ]
    },
    {
      "cell_type": "code",
      "source": [
        "# Analyzing specific columns of the dataset\n",
        "subset_df = df[['User_ID', 'Product_ID', 'Purchase', 'Age', 'Gender']]\n",
        "\n",
        "# Generating report on the subset of features\n",
        "report = sv.analyze(subset_df)\n",
        "\n",
        "# Save the report\n",
        "report.show_html(\"black_friday_sales_feature_specific_report.html\")\n"
      ],
      "metadata": {
        "colab": {
          "base_uri": "https://localhost:8080/",
          "height": 86,
          "referenced_widgets": [
            "23abda871bec4050972a458d260ff6b6",
            "0c119e65f9c648e39d5b9f6830c26790",
            "a2c376b661db4a4a81d476a931adc02c",
            "ce2b02d3bab6496cafafe6d24ab160b3",
            "57ddf2540bd74a75a9089db3c67f2b7b",
            "15afdee7c709405b8dc5f79c85237cd2",
            "e3dc1f34dcda4c759293727d281d2fda",
            "3a9e1f3855cf4391bd8da00abdfb8e34",
            "2dee04401dfe412fb0f9e961c6bda984",
            "6b522a798a2146cdbefe2909e7a92c75",
            "02aa904a0438493abfef68d14ca0844c"
          ]
        },
        "id": "AQMQMaJXdHOM",
        "outputId": "7f7d47e2-ffa1-4240-c833-5339ff808012"
      },
      "execution_count": null,
      "outputs": [
        {
          "output_type": "display_data",
          "data": {
            "text/plain": [
              "                                             |          | [  0%]   00:00 -> (? left)"
            ],
            "application/vnd.jupyter.widget-view+json": {
              "version_major": 2,
              "version_minor": 0,
              "model_id": "23abda871bec4050972a458d260ff6b6"
            }
          },
          "metadata": {}
        },
        {
          "output_type": "stream",
          "name": "stdout",
          "text": [
            "Report black_friday_sales_feature_specific_report.html was generated! NOTEBOOK/COLAB USERS: the web browser MAY not pop up, regardless, the report IS saved in your notebook/colab files.\n"
          ]
        }
      ]
    },
    {
      "cell_type": "code",
      "source": [
        "# Focusing the report on the 'Purchase' feature\n",
        "report = sv.analyze(df, target_feat='Purchase')\n",
        "\n",
        "# Save the focused report\n",
        "report.show_html(\"black_friday_sales_targeted_report.html\")\n"
      ],
      "metadata": {
        "colab": {
          "base_uri": "https://localhost:8080/",
          "height": 86,
          "referenced_widgets": [
            "98aaac7268db41f0934bf990d9269111",
            "e00495f5eb1a401f8d48b6803cc6de4d",
            "5bd9882f6c9e43beb7ab50aa0398a019",
            "59f8b351f4124b819e8482564c12ce40",
            "e80db1a0306f421298dab2099c7fcbc6",
            "9ff56273066c4b45b9d64ad81da63770",
            "577079b8b94e4420b323db526ef7a254",
            "24776004e06947e3a592e6f3ad787a98",
            "1d2db9fd082f4106a9d6ed8d9d76a228",
            "34c2a51a58fb4aaaa9b5f68e316cc428",
            "a09881c5a4d745d2af1162c4f74cf468"
          ]
        },
        "id": "JcxgB-31duuh",
        "outputId": "afc810c1-9289-4667-9fdd-95091e472d9b"
      },
      "execution_count": null,
      "outputs": [
        {
          "output_type": "display_data",
          "data": {
            "text/plain": [
              "                                             |          | [  0%]   00:00 -> (? left)"
            ],
            "application/vnd.jupyter.widget-view+json": {
              "version_major": 2,
              "version_minor": 0,
              "model_id": "98aaac7268db41f0934bf990d9269111"
            }
          },
          "metadata": {}
        },
        {
          "output_type": "stream",
          "name": "stdout",
          "text": [
            "Report black_friday_sales_targeted_report.html was generated! NOTEBOOK/COLAB USERS: the web browser MAY not pop up, regardless, the report IS saved in your notebook/colab files.\n"
          ]
        }
      ]
    }
  ]
}